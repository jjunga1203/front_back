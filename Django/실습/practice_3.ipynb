{
 "cells": [
  {
   "cell_type": "markdown",
   "metadata": {},
   "source": [
    "## 실습문제 1 - 1\n",
    "\n",
    "이전에 진행중인 movies 를 그대로 이어서 진행한다.\n",
    "\n",
    "1. movies_blog 데이터베이스를 생성하고, 연결한다.\n",
    "\n",
    "2. 마이그레이션을 통해 django default db 를 생성한다. \n",
    "\n",
    "3. 명령어를 통해 관리자 계정을 생성하고, 아이디는 admin,비밀번호도 admin으로 설정한다.\n",
    "\n",
    "4. admin 페이지에서 로그인이 잘 되는지 확인한다. \n"
   ]
  },
  {
   "cell_type": "markdown",
   "metadata": {},
   "source": [
    "## 실습문제 1 - 2\n",
    "\n",
    "1. movie 모델을 생성한다. \n",
    "\n",
    "2. title 필드는 100글자로 제한된 문자열을 받는다.\n",
    "\n",
    "3. content 필드는 글자 수 제한없이 문자열을 받는다.\n",
    "\n",
    "4. is_open 필드는 True/False를 입력 받는다.\n",
    "\n",
    "5. 마이그레이션을 통해 테이블을 생성하고, 관리자페이지에서 정상적으로 데이터가 생성되는지 확인한다.\n",
    "\n"
   ]
  }
 ],
 "metadata": {
  "language_info": {
   "name": "python"
  }
 },
 "nbformat": 4,
 "nbformat_minor": 2
}
