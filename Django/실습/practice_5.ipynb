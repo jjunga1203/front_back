{
 "cells": [
  {
   "cell_type": "markdown",
   "metadata": {},
   "source": [
    "## 실습문제 1 - 1\n",
    "\n",
    "이전에 진행중인 movies 를 그대로 이어서 진행한다.  \n",
    "\n",
    "아래 사진과 같이 메인 페이지에 전체 영화 데이터를 불러와서 출력한다.  \n",
    "(데이터의 개수에 따라 목록의 개수가 변해야하며, 관리자 계정으로 데이터를 추가/삭제하면서 테스트한다.)\n",
    "\n",
    "<img src=\"practice_images/image19.jpg\" width=\"30%\" height=\"1%\"/>"
   ]
  },
  {
   "cell_type": "markdown",
   "metadata": {},
   "source": [
    "## 실습문제 1 - 2\n",
    "\n",
    "이전에 진행중인 movies 를 그대로 이어서 진행한다.  \n",
    "\n",
    "영화 목록에서 제목을 클릭할 경우, detail 페이지로 이동하도록 한다. \n",
    "\n",
    "영화 detail 페이지는 아래 이미지와 같도록 구성한다. (url 도 아래 이미지와 같도록 구성한다.)\n",
    "\n",
    "<img src=\"practice_images/image20.jpg\" width=\"30%\" height=\"1%\"/>"
   ]
  },
  {
   "cell_type": "markdown",
   "metadata": {},
   "source": [
    "## 실습문제 1 - 3\n",
    "\n",
    "이전에 진행중인 movies 를 그대로 이어서 진행한다.  \n",
    "\n",
    "영화 추가 페이지를 아래 이미지와 같이 구성하고, 제출을 누르면 영화 데이터가 생성되고, 생성된 영화의 상세페이지로 이동하도록 구성한다. \n",
    "\n",
    "<img src=\"practice_images/image21.jpg\" width=\"30%\" height=\"1%\"/>\n",
    "<img src=\"practice_images/image23.jpg\" width=\"30%\" height=\"1%\"/>\n",
    "<img src=\"practice_images/image24.jpg\" width=\"30%\" height=\"1%\"/>"
   ]
  },
  {
   "cell_type": "markdown",
   "metadata": {},
   "source": [
    "## 실습문제 1 - 4\n",
    "\n",
    "이전에 진행중인 movies 를 그대로 이어서 진행한다.  \n",
    "\n",
    "영화 상세 페이지 가장 아래에 영화 데이터 삭제 input 을 생성하고, 삭제를 누르면 영화 데이터가 삭제되고 영화목록 페이지로 이동한다. \n",
    "\n",
    "<img src=\"practice_images/image25.jpg\" width=\"30%\" height=\"1%\"/>\n",
    "<img src=\"practice_images/image26.jpg\" width=\"30%\" height=\"1%\"/>"
   ]
  },
  {
   "cell_type": "markdown",
   "metadata": {},
   "source": [
    "## 실습문제 1 - 5\n",
    "\n",
    "이전에 진행중인 movies 를 그대로 이어서 진행한다.  \n",
    "\n",
    "영화 디테일 페이지에 영화 수정 태그를 추가하고, 해당 태그를 클릭할 경우 영화 수정 페이지로 이동한다.\n",
    "\n",
    "영화를 수정할 경우, 수정한 내용에 따라 데이터가 수정되며 수정을 완료한 후에는 \n",
    "수정한 영화의 상세 페이지로 이동한다. \n",
    "영화 수정 페이지는 아래 이미지와 같이 구성한다. \n",
    "\n",
    "<img src=\"practice_images/image27.jpg\" width=\"30%\" height=\"1%\"/>\n",
    "<img src=\"practice_images/image28.jpg\" width=\"30%\" height=\"1%\"/>\n",
    "<img src=\"practice_images/image29.jpg\" width=\"30%\" height=\"1%\"/>"
   ]
  },
  {
   "cell_type": "markdown",
   "metadata": {},
   "source": [
    "## 실습문제 1 - 6\n",
    "\n",
    "이전에 진행중인 movies 를 그대로 이어서 진행한다.  \n",
    "\n",
    "영화 목록 페이지에서 텍스트로 표현되던 개봉 여부를 체크박스로 변경한다. (mdn 공식문서 보기)\n",
    "\n",
    "개봉이 되었다면 체크박스에 체크가 나타나도록 한다. \n",
    "\n",
    "<img src=\"practice_images/image30.jpg\" width=\"30%\" height=\"1%\"/>"
   ]
  }
 ],
 "metadata": {
  "language_info": {
   "name": "python"
  }
 },
 "nbformat": 4,
 "nbformat_minor": 2
}
