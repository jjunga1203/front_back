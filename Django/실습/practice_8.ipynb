{
 "cells": [
  {
   "cell_type": "markdown",
   "metadata": {},
   "source": [
    "## DB 1:N 실습문제\n",
    "\n",
    "기존 movies_blog 프로젝트를 이어서 진행합니다.\n",
    "\n",
    "Movie Review에 댓글을 달 수 있는 기능을 추가하려고 한다. \n",
    "\n",
    "아래 문제를 풀면서 기능을 구현하세요. \n",
    "\n",
    "#### 0. 로그인/비로그인 구별하기\n",
    "0. base.html 의 모든 a 태그가 url DTL을 활용해서 동작하도록 수정하세요.\n",
    "\n",
    "1. top bar 에서 로그인한 경우에는 [LOGOUT]이 보이고, 비로그인 상태에서는 [LOGIN]이 보이도록 한다.\n",
    "\n",
    "2. top bar 에서 로그인한 경우에는 [PROFILE] 이 보이고, 클릭할 경우 accounts/index로 이동하여 유저정보 페이지로 이동한다. ( 비로그인상태로 accounts/index로 이동할 경우에는 로그인 페이지로 리다이렉션하도록 한다.)\n",
    "\n",
    "\n",
    "- 로그인한 경우  \n",
    "\n",
    "    <img src=\"practice_images/image63.jpg\" width=\"30%\" height=\"1%\"/>\n",
    "\n",
    "- 비로그인인 경우  \n",
    "\n",
    "    <img src=\"practice_images/image64.jpg\" width=\"30%\" height=\"1%\"/>\n",
    "\n",
    "3. 비로그인상태에서는 리뷰를 작성할 수 없도록 한다. \n",
    "\n",
    "- 로그인한 경우  \n",
    "\n",
    "    <img src=\"practice_images/image65.jpg\" width=\"30%\" height=\"1%\"/>\n",
    "\n",
    "- 비로그인인 경우  \n",
    "\n",
    "    <img src=\"practice_images/image66.jpg\" width=\"30%\" height=\"1%\"/>"
   ]
  },
  {
   "cell_type": "markdown",
   "metadata": {},
   "source": [
    "#### 1. Review 와 Comment 관계 형성 ( 1: N )\n",
    "1. 리뷰와 댓글을 1:N 관계를 형성한다. \n",
    "2. 댓글은 content와 작성날짜(데이터 생성 시 자동생성)으로 구성된다.\n",
    "3. 리뷰 상세페이지에서 댓글을 작성 및 댓글 목록을 볼 수 있도록 한다. \n",
    "\n",
    "    - 댓글 작성 및 목록 이미지  \n",
    "\n",
    "        <img src=\"practice_images/image67.jpg\" width=\"30%\" height=\"1%\"/>\n",
    "\n",
    "4. 댓글을 삭제할 수 있어야 한다. \n",
    "\n",
    "    - 댓글 삭제 태그 이미지  \n",
    "\n",
    "        <img src=\"practice_images/image67.jpg\" width=\"30%\" height=\"1%\"/>\n",
    "    \n",
    "5. 리뷰 목록 페이지에서 각 리뷰 제목 옆에 댓글 개수를 괄호로 표시한다. \n",
    "\n",
    "    - 리뷰 제목 옆 댓글 개수 괄호 이미지   \n",
    "\n",
    "        <img src=\"practice_images/image68.jpg\" width=\"30%\" height=\"1%\"/>\n",
    "\n",
    "6. 로그인한 유저만 댓글을 작성할 수 있도록 한다. \n",
    "\n",
    "    - 비로그인 유저는 댓글 작성할 수 없는 이미지 \n",
    "\n",
    "        <img src=\"practice_images/image69.jpg\" width=\"30%\" height=\"1%\"/>\n"
   ]
  },
  {
   "cell_type": "markdown",
   "metadata": {},
   "source": [
    "#### 2. Review 와 User 관계 형성 ( 1: N )\n",
    "1. 리뷰와 유저를 1:N 관계를 형성한다. \n",
    "2. 리뷰를 작성한 후 리뷰 목록 및 상세 페이지에서 작성자 아이디가 보이도록한다.\n",
    " \n",
    "    - 리뷰 목록 및 상세 페이지에 작성자 아이디가 추가된 이미지  \n",
    "\n",
    "        <img src=\"practice_images/image69.jpg\" width=\"30%\" height=\"1%\"/>\n",
    "        <img src=\"practice_images/image68.jpg\" width=\"30%\" height=\"1%\"/>\n",
    "    \n",
    "\n",
    "3. 리뷰 상세 페이지에서 본인이 작성한 리뷰에 한해서 수정/삭제 버튼이 보이고, 수정/삭제가 가능하도록 한다. \n",
    "\n",
    "    - 본인이 작성한 리뷰의 상세보기 페이지  \n",
    "\n",
    "        <img src=\"practice_images/image70.jpg\" width=\"30%\" height=\"1%\"/>\n",
    "\n",
    "    - 본인이 작성하지 않은 리뷰의 상세보기 페이지  \n",
    "    \n",
    "        <img src=\"practice_images/image71.jpg\" width=\"30%\" height=\"1%\"/>\n",
    "\n",
    "    "
   ]
  },
  {
   "cell_type": "markdown",
   "metadata": {},
   "source": [
    "#### 3. Comment 와 User 관계 형성 ( 1: N )\n",
    "1. 댓글과 유저를 1:N 관계를 형성한다. \n",
    "2. 댓글 목록에서 작성자가 보이도록 한다. \n",
    "3. 댓글 목록에서 본인이 작성한 댓글은 삭제버튼이 보이며, 본인만 삭제할 수 있도록 한다. \n",
    "\n",
    "- 본인이 작성한 댓글과 남이 작성한 댓글을 볼 때 삭제버튼의 유뮤  \n",
    "\n",
    "    <img src=\"practice_images/image60.jpg\" width=\"30%\" height=\"1%\"/>  "
   ]
  },
  {
   "cell_type": "markdown",
   "metadata": {},
   "source": [
    "#### 4. 유저 프로필 페이지 수정하기\n",
    "1. 본인이 작성한 리뷰 목록을 볼 수 있도록 한다.  \n",
    "- 작성한 리뷰가 없으면 \"작성한 리뷰가 없습니다\"를 출력한다.\n",
    "- 리뷰 제목을 클릭하면 리뷰 상세보기로 넘어가도록 한다.\n",
    "\n",
    "2. 본인이 작성한 댓글 목록을 볼 수 있도록 한다.  \n",
    "- 작성한 댓글이 없으면 \"작성한 댓글이 없습니다\"를 출력한다.\n",
    "- 댓글 내용을 클릭하면 댓글이 달린 리뷰 상세보기로 넘어가도록 한다.\n",
    "\n",
    "\n",
    "작성한 리뷰나 댓글이 있는 경우  \n",
    "    <img src=\"practice_images/image61.jpg\" width=\"30%\" height=\"1%\"/>\n",
    "\n",
    "작성한 리뷰나 댓글이 없는 경우  \n",
    "    <img src=\"practice_images/image62.jpg\" width=\"30%\" height=\"1%\"/>  "
   ]
  }
 ],
 "metadata": {
  "language_info": {
   "name": "python"
  }
 },
 "nbformat": 4,
 "nbformat_minor": 2
}
