{
 "cells": [
  {
   "cell_type": "markdown",
   "metadata": {},
   "source": [
    "## DB N:N 실습문제\n",
    "\n",
    "기존 movies_blog 프로젝트를 이어서 진행합니다.\n",
    "\n",
    "Movie 리뷰에 좋아요를 할 수 있는 기능을 추가하려고 한다. \n",
    "\n",
    "아래 문제를 풀면서 기능을 구현하세요. \n",
    "\n",
    "#### 1. 여러 유저가 여러 리뷰에 좋아요를 누를 수 있도록 관계를 생성하세요( N:N )\n",
    "1. 중계테이블명은 review_like_user 로 설정한다. \n",
    "2. 리뷰를 좋아요 누른 시간을 저장한다. \n",
    "3. 리뷰 목록에서 좋아요를 누를 수 있는 태그를 생성하세요. \n",
    "(이미 좋아요가 눌러져있다면 좋아요 취소로 바꿔주세요.)\n",
    "4. 좋아요 태그 옆에 해당 리뷰가 받은 총 좋아요 개수를 출력하세요.\n",
    "5. 로그인한 경우에만 좋아요가 가능하도록 하세요. \n",
    "6. 좋아요 태그 옆에 리뷰가 받은 좋아요 수를 클릭하면, 좋아요를 누른 유저 닉네임 리스트를 출력하는 기능을 구현하세요.\n",
    "\n",
    "리뷰 목록에서 좋아요 버튼 사진 (좋아요 개수 포함)  \n",
    "    <img src=\"practice_images/image72.jpg\" width=\"30%\" height=\"1%\"/>\n",
    "\n",
    "리뷰 목록에서 좋아요 취소 버튼 사진  \n",
    "    <img src=\"practice_images/image73.jpg\" width=\"30%\" height=\"1%\"/>\n",
    "\n",
    "비로그인 시 좋아요 버튼이 없는 사진  \n",
    "    <img src=\"practice_images/image74.jpg\" width=\"30%\" height=\"1%\"/>\n",
    "\n",
    "좋아요 태그를 눌렀을 때 이동한 좋아요 유저 목록 페이지 사진  \n",
    "    <img src=\"practice_images/image75.jpg\" width=\"30%\" height=\"1%\"/>"
   ]
  },
  {
   "cell_type": "markdown",
   "metadata": {},
   "source": [
    "#### 2. 팔로우 기능 완성하세요. \n",
    "1. localhost:8000/movies/ 페이지에 유저 목록을 출력한다.\n",
    "\n",
    "2. 해당 유저를 클릭하면 유저 상세 페이지로 이동해지도록 한다. 이 때, 현재 유저 상세 페이지는 로그인한 유저의 상세 페이지로 이동하는데, variable routing을 이용해서 다른 유저의 id를 통한 페이지 이동이 되도록 구현한다. \n",
    "또한, 본인이 아니라면 정보 수정/로그아웃/회원탈퇴할 수 없도록 한다.\n",
    "\n",
    "3. 유저 디테일 페이지에 팔로우 기능을 추가한다.\n",
    "4. 유저 디테일 페이지에 현재 팔로우 유저와 팔로잉 유저 수를 출력한다.\n",
    "5. 본인 스스로 팔로우할 수 없어야한다.\n",
    "\n",
    "localhost:8000/movies/ 페이지 사진  \n",
    "    <img src=\"practice_images/image76.jpg\" width=\"30%\" height=\"1%\"/>\n",
    "\n",
    "비로그인상태에서 1번 회원 페이지에 들어갔을 때 사진  \n",
    "    <img src=\"practice_images/image77.jpg\" width=\"30%\" height=\"1%\"/>\n",
    "\n",
    "로그인 후 본인 회원 페이지에 들어갔을 때 사진  \n",
    "    <img src=\"practice_images/image78.jpg\" width=\"30%\" height=\"1%\"/>\n",
    "\n",
    "다른 유저를 언팔로우 했을 떄의 사진   \n",
    "    <img src=\"practice_images/image79.jpg\" width=\"30%\" height=\"1%\"/>\n",
    "\n",
    "다른 유저를 팔로우 했을 떄의 사진   \n",
    "    <img src=\"practice_images/image80.jpg\" width=\"30%\" height=\"1%\"/>"
   ]
  }
 ],
 "metadata": {
  "language_info": {
   "name": "python"
  }
 },
 "nbformat": 4,
 "nbformat_minor": 2
}
