{
 "cells": [
  {
   "cell_type": "markdown",
   "metadata": {},
   "source": [
    "## Auth 실습문제\n",
    "\n",
    "기존 movies_blog 프로젝트를 이어서 진행합니다.\n",
    "\n",
    "#### 1. User Model 대체하기\n",
    "1. 기존에 존재하는 User Model 은 커스텀해서 사용할 수 없으므로 CustomUser 을 생성한 후 DJango의 기본 UserModel 로 설정한다. \n",
    "2. 이미 DB가 생성되어 있는 경우는 UserModel을 변경할 수 없음으로 DB의 테이블을 전부 삭제한다 (스키마를 삭제한 후 다시 생성하는 것도 방법)\n",
    "3. 관리자계정을 생성하고, 올바르게 생성되었는 지 관리자 페이지에 들어가서 확인한다. "
   ]
  },
  {
   "cell_type": "markdown",
   "metadata": {},
   "source": [
    "#### 2. 로그인 기능 구현하기 \n",
    "1. 기존에 생성되어 있는 login 페이지를 django 로그인 Form 을 이용하여 구현한다. \n",
    "2. 로그인 성공 후 accounts/info/ url에서 로그인한 계정 정보를 확인할 수 있도록 한다. \n",
    "\n",
    "<img src=\"practice_images/image39.jpg\" width=\"30%\" height=\"1%\"/>\n",
    "<img src=\"practice_images/image40.jpg\" width=\"30%\" height=\"1%\"/>"
   ]
  },
  {
   "cell_type": "markdown",
   "metadata": {},
   "source": [
    "#### 3. 로그아웃 기능 구현하기 \n",
    "1. 회원정보 페이지에 로그아웃 태그를 추가하여 로그아웃 기능을 구현한다.\n",
    "\n",
    "2. 로그아웃이 완료되면 로그인 페이지로 리다이렉트한다.  \n",
    "\n",
    "<img src=\"practice_images/image41.jpg\" width=\"30%\" height=\"1%\"/>"
   ]
  },
  {
   "cell_type": "markdown",
   "metadata": {},
   "source": [
    "#### 4. 회원가입 기능 구현하기 \n",
    "1. 로그인 페이지에 회원가입 태그를 추가한다. \n",
    "2. 아이디, 이메일, 비밀번호를 입력받고, 회원가입을 진행한다.\n",
    "3. 회원가입이 완료되면 회원정보 페이지로 리다이렉트하며, 회원정보 아이디, 이메일이 출력되도록 한다. \n",
    "\n",
    "<img src=\"practice_images/image45.jpg\" width=\"30%\" height=\"1%\"/>\n",
    "<img src=\"practice_images/image46.jpg\" width=\"30%\" height=\"1%\"/>\n",
    "<img src=\"practice_images/image47.jpg\" width=\"30%\" height=\"1%\"/>"
   ]
  },
  {
   "cell_type": "markdown",
   "metadata": {},
   "source": [
    "#### 4. 회원탈퇴 기능 구현하기 \n",
    "1. 회원정보 페이지에 회원탈퇴 태그를 추가한다.\n",
    "2. 회원탈퇴를 진행한 후, 로그인 페이지로 리다이렉트한다.\n",
    "\n",
    "<img src=\"practice_images/image48.jpg\" width=\"30%\" height=\"1%\"/>"
   ]
  },
  {
   "cell_type": "markdown",
   "metadata": {},
   "source": []
  },
  {
   "cell_type": "markdown",
   "metadata": {},
   "source": [
    "#### 5. 회원정보 수정 구현하기 \n",
    "1. 회원정보 페이지에 회원정보 수정 태그를 추가한다.\n",
    "2. 회원정보 수정 페이지에 들어갈 경우, 기존 데이터가 출력되도록 한다.\n",
    "3. 회원정보 페이지에서 이메일과 비밀번호만 수정할 수 있도록 한다.\n",
    "4. 수정이 완료되면 회원정보 페이지로 리다리엑트 한다.\n",
    "\n",
    "<img src=\"practice_images/image50.jpg\" width=\"30%\" height=\"1%\"/>\n",
    "<img src=\"practice_images/image49.jpg\" width=\"30%\" height=\"1%\"/>"
   ]
  },
  {
   "cell_type": "markdown",
   "metadata": {},
   "source": [
    "#### 6. 비밀번호 수정 구현하기 \n",
    "1. 회원정보 수정 시 나타나는 비밀번호 수정 링크를 클릭할 경우, 정상적으로 비밀번호 수정 페이지로 이동할 수 있도록 한다. \n",
    "2. 비밀번호를 수정한 뒤에도 세션이 유지되도록 한다.\n",
    "3. 비밀번호를 수정한 뒤에는 회원정보 페이지로 리다이렉트한다.\n",
    "\n",
    "<img src=\"practice_images/image51.jpg\" width=\"30%\" height=\"1%\"/>"
   ]
  }
 ],
 "metadata": {
  "language_info": {
   "name": "python"
  }
 },
 "nbformat": 4,
 "nbformat_minor": 2
}
