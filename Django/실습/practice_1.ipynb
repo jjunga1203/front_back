{
 "cells": [
  {
   "cell_type": "markdown",
   "metadata": {},
   "source": []
  },
  {
   "cell_type": "markdown",
   "metadata": {},
   "source": [
    "### 정답코드\n",
    "#### intro/urls.py\n",
    "\n",
    "# 여기에 코드를 작성하시오.\n",
    "\n",
    "from django.contrib import admin\n",
    "from django.urls import path\n",
    "from pages import views\n",
    "\n",
    "\n",
    "urlpatterns = [\n",
    "    path('admin/', admin.site.urls),\n",
    "    path('lotto/', views.lotto),\n",
    "]\n",
    "\n",
    "#### pages/views.py\n",
    "# 여기에 코드를 작성하시오.\n",
    "\n",
    "import random \n",
    "from django.shortcuts import render\n",
    "\n",
    "\n",
    "def lotto(request):\n",
    "    numbers = range(1, 46)\n",
    "    lotto = random.sample(numbers, 6)\n",
    "    context = {\n",
    "        'lotto': lotto,\n",
    "    }\n",
    "    return render(request, 'lotto.html', context)\n",
    "\n",
    "\n",
    "#### templates/lotto.html\n",
    "<!-- 여기에 코드를 작성하시오. -->\n",
    "\n",
    "<!DOCTYPE html>\n",
    "<html lang=\"ko\">\n",
    "<head>\n",
    "  <meta charset=\"UTF-8\">\n",
    "  <meta name=\"viewport\" content=\"width=device-width, initial-scale=1.0\">\n",
    "  <title>로또 번호 생성</title>\n",
    "</head>\n",
    "<body>\n",
    "  <h1>제 OOO회 로또 번호 추천</h1>\n",
    "  <p>SSAFY님께서 선택하신 로또 번호는 {{ lotto }}입니다.</p>\n",
    "</body>\n",
    "</html>"
   ]
  },
  {
   "cell_type": "markdown",
   "metadata": {},
   "source": [
    "## 실습문제 1 - 1\n",
    "\n",
    "앞으로 지속적으로 업데이트하면서 진행할 프로젝트이므로 관리하면서 진행하기\n",
    "\n",
    "가상환경, 깃을 모두 이용하여 프로젝트를 생성하며,\n",
    "\n",
    "1. 프로젝트 이름은 moives_blog 로 작성한다. \n",
    "\n",
    "2. 앱 이름은 moives 로 작성한다. \n",
    "\n",
    "3. 'localhost:8000/movies' 경로로 들어가면 아래 사진과 같이 나오도록 구현한다. \n",
    "\n",
    "\n",
    "### 결과 화면\n",
    "<img src=\"practice_images/image3.jpg\" width=\"30%\" height=\"30%\"/>\n"
   ]
  },
  {
   "cell_type": "markdown",
   "metadata": {},
   "source": [
    "## 실습문제 1 - 2\n",
    "\n",
    "영화를 추가할 수 있는 페이지를 생성한다. \n",
    "\n",
    "1. 'localhost:8000/movies' 경로의 메인 페이지에서 영화를 추가할 수 있는 페이지로 연결하는 하이퍼링크를 생성합니다.\n",
    "\n",
    "2. 영화를 추가할 수 있는 페이지에서 메인 페이지로 돌아갈 수 있는 하이퍼링크를 생성합니다. \n",
    "해당 코드와 같이 생성가능 - (<a href=\"/movies/\">메인 페이지 </a>)\n",
    "\n",
    "3. 영화를 추가하는 페이지는 아래 이미지를 참고하세요. \n",
    "\n",
    "\n",
    "### 결과 화면\n",
    "<img src=\"practice_images/image4.jpg\" width=\"30%\" height=\"30%\"/>\n",
    "<img src=\"practice_images/image5.jpg\" width=\"30%\" height=\"30%\"/>\n"
   ]
  },
  {
   "cell_type": "markdown",
   "metadata": {},
   "source": [
    "## 실습문제 1 - 3\n",
    "\n",
    "base html 을 만들어서 모든 html 파일에 적용한다. \n",
    "\n",
    "base html에는 nav bar가 있어야 하며, 아래 결과화면과 같이 구성한다. \n",
    "\n",
    "### 결과 화면\n",
    "<img src=\"practice_images/image6.jpg\" width=\"30%\" height=\"30%\"/>\n",
    "<img src=\"practice_images/image7.jpg\" width=\"30%\" height=\"30%\"/>"
   ]
  },
  {
   "cell_type": "markdown",
   "metadata": {},
   "source": [
    "## 실습문제 2\n",
    "\n",
    "아래 제시된 정보를 참고하여 사용자가 /lotto로 요청을 보냈을 때, \n",
    "\n",
    "로또 번호 6개를 무작위로 추천하여 보여주는 페이지를 만드시오. (랜덤 module 사용 )  \n",
    "\n",
    "1) intro/는 startproject 명령어로 생성되는 project 디렉토리이다.\n",
    "2) pages/는 startapp 명령어로 생성되는 application 디렉토리이다.\n",
    "\n",
    "<img src=\"practice_images/image1.jpg\" width=\"30%\" height=\"1%\"/>\n",
    "\n",
    "\n",
    "### 작성해야 하는 파일 정보\n",
    "\n",
    "1. intro/urls.py\n",
    "lotto/ 형태의 요청 경로가 명시되는 파일\n",
    "2. pages/views.py\n",
    "무작위 로또 번호를 생성하고 html 파일을 렌더링 해주는 함수가 작성되는 파일\n",
    "3. templates/lotto.html\n",
    "서버의 응답 결과로 로또 번호 6개를 사용자에게 보여주는 html 문서\n",
    "\n",
    "### 결과 화면\n",
    "<img src=\"practice_images/image2.jpg\" width=\"30%\" height=\"30%\"/>\n"
   ]
  }
 ],
 "metadata": {
  "language_info": {
   "name": "python"
  }
 },
 "nbformat": 4,
 "nbformat_minor": 2
}
