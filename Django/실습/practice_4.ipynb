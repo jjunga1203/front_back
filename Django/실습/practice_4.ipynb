{
 "cells": [
  {
   "cell_type": "markdown",
   "metadata": {},
   "source": [
    "## 실습문제 1 - 1\n",
    "\n",
    "- 이전에 진행중인 movies 를 그대로 이어서 진행한다.  \n",
    "- shell_plus로 진행한다.\n",
    "\n",
    "shell_plus를 이용해서 아래의 조건과 같은 movie 데이터를 2개 추가한다. \n",
    "1. title=범죄도시, content=마동석, is_open = True\n",
    "2. title=범죄도시2, content=마동석2, is_open = False\n",
    "\n",
    "- 데이터를 추가할 때 1번은 인스턴스를 생성한 후 DB에 저장하는 방법을 사용한다.\n",
    "- 데이터를 추가할 때 2번은 QuerySet API 중 create() 메소드를 활용해서 저장한다. \n",
    "\n",
    "데이터를 추가한 후 추가한 전체 데이터를 조회한 후 결과가 아래 사진과 같이 나오도록 한다. \n",
    "\n",
    "<img src=\"practice_images/image15.jpg\" width=\"30%\" height=\"1%\"/>"
   ]
  },
  {
   "cell_type": "markdown",
   "metadata": {},
   "source": [
    "## 실습문제 1 - 2\n",
    "\n",
    "- 이전에 진행중인 movies 를 그대로 이어서 진행한다.  \n",
    "- shell_plus로 진행한다.\n",
    "\n",
    "1. PK가 1번인 데이터 하나를 조회하는 ORM을 작성하고, 실행결과를 movie 변수에 할당하고, movie 변수의 각 title, content, is_open 값을 출력한다. \n",
    "2. 1번에서 얻은 데이터의 content 값을 마동석11 로 업데이트한 후, 1번과 같이 출력한다. \n",
    "\n",
    "<img src=\"practice_images/image16.jpg\" width=\"30%\" height=\"1%\"/>  \n",
    "\n",
    "<br>\n",
    "<img src=\"practice_images/image17.jpg\" width=\"30%\" height=\"1%\"/>"
   ]
  },
  {
   "cell_type": "markdown",
   "metadata": {},
   "source": [
    "## 실습문제 1 - 3\n",
    "\n",
    "- 이전에 진행중인 movies 를 그대로 이어서 진행한다.  \n",
    "- shell_plus로 진행한다.\n",
    "\n",
    "1. PK가 1번인 데이터 하나를 삭제하는 ORM을 작성하고, 전체 조회 ORM을 통해 정상적으로 삭제되었는 지 확인한다. \n",
    "2. models.py를 수정해서 created_at 컬럼을 추가한다. 이 컬럼은 DateField로 작성하며, 데이터 생성 시점에 자동으로 값이 추가되도록 작성한다. \n",
    "\n",
    "<br>\n",
    "<img src=\"practice_images/image18.jpg\" width=\"30%\" height=\"1%\"/>"
   ]
  }
 ],
 "metadata": {
  "language_info": {
   "name": "python"
  }
 },
 "nbformat": 4,
 "nbformat_minor": 2
}
